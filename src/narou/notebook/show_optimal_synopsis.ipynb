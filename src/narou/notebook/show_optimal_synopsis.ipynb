{
 "cells": [
  {
   "cell_type": "code",
   "execution_count": 1,
   "metadata": {},
   "outputs": [
    {
     "name": "stderr",
     "output_type": "stream",
     "text": [
      "Using TensorFlow backend.\n"
     ]
    }
   ],
   "source": [
    "from src.narou.summarizer.keras_regression_extractive_summarizer import KerasRegressionExtractiveSummarizer\n",
    "from src.util import settings\n",
    "import os\n",
    "from rouge import Rouge"
   ]
  },
  {
   "cell_type": "code",
   "execution_count": 2,
   "metadata": {},
   "outputs": [
    {
     "name": "stdout",
     "output_type": "stream",
     "text": [
      "loading embedding_model...\n",
      "loading embedding_model...\n",
      "loading similarity threshold data...\n",
      "loading trained model: /Users/kiriyama.k.ab/Fujii.lab/story_modeling/model/narou/threshold_estimate_trained_model/180820/model_30_vloss0.0078.hdf5\n",
      "loading data dict...\n",
      "loading splited data ncode...\n",
      "converting dict to tensor...\n",
      "converting dict to tensor...\n",
      "num of novels which is training data: 839\n",
      "num of novels which is test data: 94\n",
      "loading trained model: /Users/kiriyama.k.ab/Fujii.lab/story_modeling/model/narou/reg_trained_model/general/180822/model_02_vloss0.0064.hdf5\n"
     ]
    }
   ],
   "source": [
    "trained_model_path = os.path.join(settings.NAROU_MODEL_DIR_PATH, 'reg_trained_model', 'general', '180822','model_02_vloss0.0064.hdf5')\n",
    "summarizer = KerasRegressionExtractiveSummarizer(genre='general', trained_model_path=trained_model_path)"
   ]
  },
  {
   "cell_type": "code",
   "execution_count": 12,
   "metadata": {},
   "outputs": [],
   "source": [
    "# ncode = list(summarizer.data_dict.keys())[2]\n",
    "ncode = 'n0011cx'\n",
    "rouge = Rouge()"
   ]
  },
  {
   "cell_type": "code",
   "execution_count": 13,
   "metadata": {},
   "outputs": [],
   "source": [
    "ref = summarizer.generate_ref_synopsis(ncode)\n",
    "opt = summarizer.generate_opt_synopsis(ncode)\n",
    "pro = summarizer.generate_counts_synopsis(ncode)[-1]"
   ]
  },
  {
   "cell_type": "code",
   "execution_count": 14,
   "metadata": {},
   "outputs": [
    {
     "data": {
      "text/plain": [
       "'目を覚ましたら知らない部屋。二日酔いに襲われていると現れたのは見知らぬイケメン。え、誰？飼う？何を？私を？……はあ？飼い主とペットの出逢い編。'"
      ]
     },
     "execution_count": 14,
     "metadata": {},
     "output_type": "execute_result"
    }
   ],
   "source": [
    "ref.replace(' ', '')"
   ]
  },
  {
   "cell_type": "code",
   "execution_count": 15,
   "metadata": {},
   "outputs": [
    {
     "data": {
      "text/plain": [
       "'ーー目を覚ましたら知らない天井、いや天蓋？「あ、起きた？」え、誰？飼うって何を？私を？私の？何コレ。……何ですかその顔は。何だろう。護衛って何！でも頑張って私。'"
      ]
     },
     "execution_count": 15,
     "metadata": {},
     "output_type": "execute_result"
    }
   ],
   "source": [
    "opt.replace(' ', '')"
   ]
  },
  {
   "cell_type": "code",
   "execution_count": 16,
   "metadata": {},
   "outputs": [
    {
     "data": {
      "text/plain": [
       "'したんだよ！脱力している場合ではない。「初めての事だしちょっと迷ったけど飼うことにしたから。君の飼育部屋として急遽この部屋を用意したんだ。どう？気に入った？」え、何？私のアホな発言に乗ってくれて元気づけようとしてくれているのだろうか。リバースしちゃったんですね。'"
      ]
     },
     "execution_count": 16,
     "metadata": {},
     "output_type": "execute_result"
    }
   ],
   "source": [
    "pro.replace(' ', '')"
   ]
  },
  {
   "cell_type": "code",
   "execution_count": 17,
   "metadata": {},
   "outputs": [
    {
     "data": {
      "text/plain": [
       "0.5588235294117647"
      ]
     },
     "execution_count": 17,
     "metadata": {},
     "output_type": "execute_result"
    }
   ],
   "source": [
    "rouge.get_scores(opt, ref)[0]['rouge-1']['r']"
   ]
  },
  {
   "cell_type": "code",
   "execution_count": 18,
   "metadata": {},
   "outputs": [
    {
     "data": {
      "text/plain": [
       "0.5"
      ]
     },
     "execution_count": 18,
     "metadata": {},
     "output_type": "execute_result"
    }
   ],
   "source": [
    "rouge.get_scores(pro, ref)[0]['rouge-1']['r']"
   ]
  },
  {
   "cell_type": "code",
   "execution_count": null,
   "metadata": {},
   "outputs": [],
   "source": []
  }
 ],
 "metadata": {
  "kernelspec": {
   "display_name": "Python 3",
   "language": "python",
   "name": "python3"
  },
  "language_info": {
   "codemirror_mode": {
    "name": "ipython",
    "version": 3
   },
   "file_extension": ".py",
   "mimetype": "text/x-python",
   "name": "python",
   "nbconvert_exporter": "python",
   "pygments_lexer": "ipython3",
   "version": "3.6.1"
  }
 },
 "nbformat": 4,
 "nbformat_minor": 2
}

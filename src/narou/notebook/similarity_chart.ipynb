{
 "cells": [
  {
   "cell_type": "code",
   "execution_count": 1,
   "metadata": {},
   "outputs": [],
   "source": [
    "from src.narou.corpus.narou_corpus import NarouCorpus\n",
    "from src.narou.corpus.multi_feature_and_bin_classified_sentence_data import MultiFeatureAndBinClassifiedSentenceData"
   ]
  },
  {
   "cell_type": "code",
   "execution_count": 2,
   "metadata": {},
   "outputs": [],
   "source": [
    "import matplotlib.pyplot as plt\n",
    "import numpy as np"
   ]
  },
  {
   "cell_type": "code",
   "execution_count": 3,
   "metadata": {},
   "outputs": [
    {
     "name": "stdout",
     "output_type": "stream",
     "text": [
      "loading embedding_model...\n"
     ]
    }
   ],
   "source": [
    "supplier = MultiFeatureAndBinClassifiedSentenceData()\n",
    "corpus = supplier.corpus"
   ]
  },
  {
   "cell_type": "code",
   "execution_count": 4,
   "metadata": {},
   "outputs": [
    {
     "name": "stdout",
     "output_type": "stream",
     "text": [
      "loading data dict...\n"
     ]
    }
   ],
   "source": [
    "raw_data_dict = supplier.multi_feature_and_bin_classified_sentence_data_dict()"
   ]
  },
  {
   "cell_type": "code",
   "execution_count": 29,
   "metadata": {},
   "outputs": [],
   "source": [
    "ncodes = list(raw_data_dict.keys())\n",
    "ncode = ncodes[0]"
   ]
  },
  {
   "cell_type": "markdown",
   "metadata": {},
   "source": [
    "### 類似度のチャートを確認"
   ]
  },
  {
   "cell_type": "code",
   "execution_count": 30,
   "metadata": {},
   "outputs": [],
   "source": [
    "def show_per_novel_sim_chart(ncode):\n",
    "    data = raw_data_dict[ncode]\n",
    "    sims = data['Y_score']\n",
    "    x_axis = np.arange(len(sims))\n",
    "    plt.bar(x_axis, sims, label='cos_sim', linewidth=1)\n",
    "    plt.title('Cos similarity plot')\n",
    "    plt.xlabel('sentence index')\n",
    "    plt.ylabel('similarity')\n",
    "    plt.ylim(0, 1.0)\n",
    "    plt.legend()\n",
    "    plt.show()\n",
    "    \n",
    "    print('average: {:.3f}'.format(np.average(sims)))\n",
    "    print('var: {:.3f}'.format(np.var(sims)))"
   ]
  },
  {
   "cell_type": "code",
   "execution_count": 31,
   "metadata": {},
   "outputs": [
    {
     "data": {
      "image/png": "[encoded data removed]",
      "text/plain": [
       "<Figure size 432x288 with 1 Axes>"
      ]
     },
     "metadata": {},
     "output_type": "display_data"
    },
    {
     "name": "stdout",
     "output_type": "stream",
     "text": [
      "average: 0.010\n",
      "var: 0.004\n"
     ]
    }
   ],
   "source": [
    "show_per_novel_sim_chart(ncode)"
   ]
  },
  {
   "cell_type": "markdown",
   "metadata": {},
   "source": [
    "### 重要度の分布"
   ]
  },
  {
   "cell_type": "code",
   "execution_count": 44,
   "metadata": {},
   "outputs": [
    {
     "name": "stdout",
     "output_type": "stream",
     "text": [
      "[6.55654511e+00 2.24844043e+00 8.34873356e-01 2.32532502e-01\n",
      " 7.83066907e-02 3.13097067e-02 7.18617869e-03 7.16189929e-03\n",
      " 3.64412299e-03]\n"
     ]
    }
   ],
   "source": [
    "hist = np.zeros(9)\n",
    "for i, ncode in enumerate(ncodes):\n",
    "    scores = raw_data_dict[ncode]['Y_score']\n",
    "    bins = np.arange(0, 1, 0.1)\n",
    "    h, b = np.histogram(scores, bins=bins, density=True)\n",
    "    hist += h\n",
    "print(hist / len(ncodes))"
   ]
  },
  {
   "cell_type": "code",
   "execution_count": null,
   "metadata": {},
   "outputs": [],
   "source": []
  }
 ],
 "metadata": {
  "kernelspec": {
   "display_name": "Python 3",
   "language": "python",
   "name": "python3"
  },
  "language_info": {
   "codemirror_mode": {
    "name": "ipython",
    "version": 3
   },
   "file_extension": ".py",
   "mimetype": "text/x-python",
   "name": "python",
   "nbconvert_exporter": "python",
   "pygments_lexer": "ipython3",
   "version": "3.6.1"
  }
 },
 "nbformat": 4,
 "nbformat_minor": 2
}

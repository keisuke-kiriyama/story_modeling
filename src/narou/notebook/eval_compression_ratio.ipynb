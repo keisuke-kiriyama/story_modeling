{
 "cells": [
  {
   "cell_type": "code",
   "execution_count": 1,
   "metadata": {},
   "outputs": [],
   "source": [
    "from src.narou.corpus.multi_feature_and_bin_classified_sentence_data import MultiFeatureAndBinClassifiedSentenceData\n",
    "from src.util import settings\n",
    "import os\n",
    "import numpy as np"
   ]
  },
  {
   "cell_type": "code",
   "execution_count": 2,
   "metadata": {},
   "outputs": [
    {
     "name": "stdout",
     "output_type": "stream",
     "text": [
      "loading embedding_model...\n"
     ]
    }
   ],
   "source": [
    "supplier = MultiFeatureAndBinClassifiedSentenceData()\n",
    "corpus = supplier.corpus"
   ]
  },
  {
   "cell_type": "code",
   "execution_count": 3,
   "metadata": {},
   "outputs": [
    {
     "name": "stdout",
     "output_type": "stream",
     "text": [
      "loading data dict...\n"
     ]
    }
   ],
   "source": [
    "raw_data_dict = supplier.multi_feature_and_bin_classified_sentence_data_dict()\n",
    "ncodes = raw_data_dict.keys()"
   ]
  },
  {
   "cell_type": "code",
   "execution_count": 5,
   "metadata": {},
   "outputs": [
    {
     "name": "stdout",
     "output_type": "stream",
     "text": [
      "0.05977192292567833\n",
      "0.5346534653465347\n"
     ]
    }
   ],
   "source": [
    "comp_ratios = []\n",
    "for ncode in ncodes:\n",
    "    contents_length = len(''.join(corpus.get_contents_lines(ncode)))\n",
    "    synopsis_length = len(''.join(corpus.get_synopsis_lines(ncode)))\n",
    "    comp_ratio = synopsis_length / contents_length\n",
    "    comp_ratios.append(comp_ratio)\n",
    "print(np.average(comp_ratio))\n",
    "print(max(comp_ratios))"
   ]
  },
  {
   "cell_type": "code",
   "execution_count": null,
   "metadata": {},
   "outputs": [],
   "source": []
  }
 ],
 "metadata": {
  "kernelspec": {
   "display_name": "Python 3",
   "language": "python",
   "name": "python3"
  },
  "language_info": {
   "codemirror_mode": {
    "name": "ipython",
    "version": 3
   },
   "file_extension": ".py",
   "mimetype": "text/x-python",
   "name": "python",
   "nbconvert_exporter": "python",
   "pygments_lexer": "ipython3",
   "version": "3.6.1"
  }
 },
 "nbformat": 4,
 "nbformat_minor": 2
}

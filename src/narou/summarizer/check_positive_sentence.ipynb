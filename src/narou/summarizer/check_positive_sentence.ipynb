{
 "cells": [
  {
   "cell_type": "code",
   "execution_count": 1,
   "metadata": {},
   "outputs": [
    {
     "name": "stderr",
     "output_type": "stream",
     "text": [
      "Using TensorFlow backend.\n"
     ]
    }
   ],
   "source": [
    "from keras_regression_extractive_summarizer import KerasRegressionExtractiveSummarizer"
   ]
  },
  {
   "cell_type": "code",
   "execution_count": 2,
   "metadata": {},
   "outputs": [],
   "source": [
    "import numpy as np"
   ]
  },
  {
   "cell_type": "code",
   "execution_count": 3,
   "metadata": {},
   "outputs": [
    {
     "name": "stdout",
     "output_type": "stream",
     "text": [
      "loading embedding_model...\n",
      "loading embedding_model...\n",
      "loading similarity threshold data...\n",
      "loading trained model: /Users/kiriyama.k.ab/Fujii.lab/story_modeling/model/narou/threshold_estimate_trained_model/180820/model_30_vloss0.0078.hdf5\n",
      "loading data dict...\n",
      "saving splited data ncode...\n",
      "converting dict to tensor...\n",
      "converting dict to tensor...\n",
      "num of novels which is training data: 508\n",
      "num of novels which is test data: 127\n",
      "loading trained model: /Users/kiriyama.k.ab/Fujii.lab/story_modeling/model/narou/reg_trained_model/180817/model_26_vloss0.0058.hdf5\n"
     ]
    }
   ],
   "source": [
    "summarizer = KerasRegressionExtractiveSummarizer()"
   ]
  },
  {
   "cell_type": "code",
   "execution_count": 4,
   "metadata": {},
   "outputs": [],
   "source": [
    "ncode = list(summarizer.data_dict.keys())[7]"
   ]
  },
  {
   "cell_type": "code",
   "execution_count": 5,
   "metadata": {},
   "outputs": [],
   "source": [
    "data = summarizer.data_dict[ncode]"
   ]
  },
  {
   "cell_type": "code",
   "execution_count": 6,
   "metadata": {},
   "outputs": [],
   "source": [
    "contents_lines = summarizer.corpus.get_contents_lines(ncode)"
   ]
  },
  {
   "cell_type": "code",
   "execution_count": 7,
   "metadata": {},
   "outputs": [],
   "source": [
    "removed_contents_lines = np.array(summarizer.corpus.remove_error_line_indexes_from_contents_lines(contents_lines, data['error_line_indexes']))"
   ]
  },
  {
   "cell_type": "code",
   "execution_count": 8,
   "metadata": {},
   "outputs": [],
   "source": [
    "synopsis_lines = summarizer.corpus.get_synopsis_lines(ncode)"
   ]
  },
  {
   "cell_type": "code",
   "execution_count": 9,
   "metadata": {},
   "outputs": [],
   "source": [
    "positive_index = np.where(data['Y']==1)"
   ]
  },
  {
   "cell_type": "code",
   "execution_count": 10,
   "metadata": {},
   "outputs": [],
   "source": [
    "negative_index = np.where(data['Y']==0)"
   ]
  },
  {
   "cell_type": "code",
   "execution_count": 11,
   "metadata": {},
   "outputs": [
    {
     "data": {
      "text/plain": [
       "(array([ 8, 26, 65, 67]),)"
      ]
     },
     "execution_count": 11,
     "metadata": {},
     "output_type": "execute_result"
    }
   ],
   "source": [
    "positive_index"
   ]
  },
  {
   "cell_type": "code",
   "execution_count": 12,
   "metadata": {},
   "outputs": [
    {
     "data": {
      "text/plain": [
       "(array([ 0,  1,  2,  3,  4,  5,  6,  7,  9, 10, 11, 12, 13, 14, 15, 16, 17,\n",
       "        18, 19, 20, 21, 22, 23, 24, 25, 27, 28, 29, 30, 31, 32, 33, 34, 35,\n",
       "        36, 37, 38, 39, 40, 41, 42, 43, 44, 45, 46, 47, 48, 49, 50, 51, 52,\n",
       "        53, 54, 55, 56, 57, 58, 59, 60, 61, 62, 63, 64, 66, 68, 69, 70, 71]),)"
      ]
     },
     "execution_count": 12,
     "metadata": {},
     "output_type": "execute_result"
    }
   ],
   "source": [
    "negative_index"
   ]
  },
  {
   "cell_type": "code",
   "execution_count": 13,
   "metadata": {},
   "outputs": [
    {
     "data": {
      "text/plain": [
       "'n1577ck'"
      ]
     },
     "execution_count": 13,
     "metadata": {},
     "output_type": "execute_result"
    }
   ],
   "source": [
    "ncode"
   ]
  },
  {
   "cell_type": "code",
   "execution_count": 14,
   "metadata": {},
   "outputs": [
    {
     "data": {
      "text/plain": [
       "['簡単に言えば旦那のことが大好きな奥さんの話ですよ。',\n",
       " '殺したいって言うのは一種の愛情表現だ。',\n",
       " 'ただ度が過ぎると言う位だ。',\n",
       " 'まあ、どのくらいかは見ておくんなまし。',\n",
       " '基本的には1話が2000文字以内の小説になります。']"
      ]
     },
     "execution_count": 14,
     "metadata": {},
     "output_type": "execute_result"
    }
   ],
   "source": [
    "synopsis_lines"
   ]
  },
  {
   "cell_type": "code",
   "execution_count": 15,
   "metadata": {},
   "outputs": [
    {
     "data": {
      "text/plain": [
       "array(['でも、そんな妻のことが本当に大好きです。', '毎日数字ばっかり見ていて頭が痛くなってくるんだよな。',\n",
       "       '簡単に言えば束縛ですね。', 'まぁ、嫌ではないんだけどちょっと度が過ぎるんだよな。'], dtype='<U211')"
      ]
     },
     "execution_count": 15,
     "metadata": {},
     "output_type": "execute_result"
    }
   ],
   "source": [
    "removed_contents_lines[positive_index]"
   ]
  },
  {
   "cell_type": "code",
   "execution_count": 16,
   "metadata": {},
   "outputs": [
    {
     "data": {
      "text/plain": [
       "array(['私は高校から社会人になって２年目に突入しました。', 'ちなみに旦那も同じ会社で働いています。',\n",
       "       '結婚生活も２年目に突入しました。', 'そんな旦那を私は殺したいほど本当に愛しています。',\n",
       "       '―――――――――――――――ぼくは高校から社会人になって２年目に突入しました。', 'ちなみに妻も同じ会社で働いています。',\n",
       "       '結婚生活も２年目に突入しました。', 'そんな妻の愛が強すぎて毎日が不安に陥ってます。', '私の名前は、。',\n",
       "       '旧苗字は柴崎。', '私の毎日の朝は午前５時３０分に起床する。',\n",
       "       '彼は何時も朝が弱いので私が起きてから３０分後くらいに起きてくる。',\n",
       "       '私はまず、私と彼の分の朝御飯と昼食を作ることが日課になりました。', '彼は少食なのでそこまで料理をすることに時間はありません。',\n",
       "       '朝御飯と昼食の準備が終えたら、起こしに行きます。', '彼には普通に起こしただけでは早々起きることがありません。',\n",
       "       '仕方ないので毎日彼のお腹にダイブして起こすようにしています。',\n",
       "       '彼は止めてほしいらしいけどこうでもしないと起きないのでこう方法を取ることにしました。',\n",
       "       '彼とは同じ会社なので毎日一緒に通勤しています。', '親からのプレゼントでもらった車で毎日通勤しています。',\n",
       "       '基本的には夜勤はしないから一緒に帰ることが出来る。', '彼とは会社内では滅多に会えない。',\n",
       "       '彼はまだ若手で事務職の仕事は先輩方がやってしまうから色んな部署の手伝いにいっている。',\n",
       "       '前にもっとちゃんとした仕事をしたいと言ってたな。', '私は会計のお仕事をしている。',\n",
       "       'まぁ、嫌いじゃないから良いんですけど。', '今日は二人とも夜勤は無かったので今日の夕飯を買ってから家に帰りました。',\n",
       "       'それからは、私は彼に甘えます。', 'ぼくの名前は、。', 'ぼくの朝は妻に起こされるところから始まる。',\n",
       "       '毎日ダイブしてくるから勘弁してほしいよ。', 'でも、そうでもしないと起きないからそうでもしないと起きないんだけどね。',\n",
       "       'それに、妻の朝御飯はむちゃくちゃ旨い。', '毎朝が楽しみで仕方ない。', '妻とは会社が同じなので、毎日一緒に通勤している。',\n",
       "       'ぼくたちは、親からプレゼントされた車で通勤している。', '妻はぼくが夜勤をしてても待っていてくれる。',\n",
       "       'でも、今日は夜勤もなくて夕飯の材料を買って家に帰った。', 'そして、今日も妻はぼくに甘えてくる。',\n",
       "       'ぼくはそれが怖くて仕方ないんだよな。', '今日は彼も私も夜勤が無かったので、夕飯の材料を買って家に帰った。',\n",
       "       'ちなみに今日は、オムライスです。', '彼が大好きだからうちの夕飯にはオムライスを作ることが多い。',\n",
       "       '彼は何を食べても美味しいと言ってくれる。', '何時も、その言葉が聞けることを楽しみにして朝御飯も昼食と夕飯を作っている。',\n",
       "       '夕飯を食べてからの食器の片付けも彼は手伝ってくれる。', '皿洗いもたまにだけ度どしてくれて助かっている。',\n",
       "       '夕飯を食べ終えてからは、何時も２人でテレビを見たり、好きなゲームをしながら過ごしている。', '今日も平和に過ごせている。',\n",
       "       '彼女はぼくの職場の話になると人が変わった様にぼくに話しかけてくるのだ。', '「今日もお仕事ごくろうさま」',\n",
       "       '「でさ、女子とは話したの」', '「○○○○さんと話したの？」', '「△△△△さんとも話したの？」',\n",
       "       '「今日も私以外の女子と話したの？」', '「ねぇ、どうなの」簡単に言えば、妻はぼくが妻以外の女子と話すことを極端にいやがるのだ。',\n",
       "       'もし、話してると言ったらこの後どうなるか分かってるけど後でバレたときが怖いから正直に言うことにした。', '「すいません」',\n",
       "       '「○○○○さんとは少し話しました」', '「△△△△さんとも話しました」',\n",
       "       '「すいませんでした」言いたくはないけどぼくは正直に言った。',\n",
       "       'その後の妻といったら「なんで、なんで、なんで、なんで、なんで、なんで、なんで、なんで、なんで、なんで、なんで、なんで、私以外の女と話したりするの。私じゃ不満なの。私に不満があるから他の女子と話してるんでしょ。私じゃ満足できないの？私はすべてを貴方に捧げているのに。ねぇ、どうして。なんで、なんで、なんで、なんで、私以外の、女子と話したりなんかするの。ねぇ、なんで、なんで、なんで、なんで」まぁ、こんな感じで来るわけですよ。',\n",
       "       '妻はぼくを独り占めしたいらしく、話すことも嫌らしい。', '付き合い始めた高校生の時から変わってないんだよな。',\n",
       "       '女子と話すことなんて仕事をしてたら仕方ないんだけど。', 'まぁ、この後の償いが大変なんだよな。',\n",
       "       'キスの要求もえげつないし、営みの要求も半端ない。', '別に嫌じゃないんだけどね。'], dtype='<U211')"
      ]
     },
     "execution_count": 16,
     "metadata": {},
     "output_type": "execute_result"
    }
   ],
   "source": [
    "removed_contents_lines[negative_index]"
   ]
  },
  {
   "cell_type": "code",
   "execution_count": 17,
   "metadata": {},
   "outputs": [
    {
     "data": {
      "text/plain": [
       "array([0.3779645 , 0.33333334, 0.43643582, 0.33333334])"
      ]
     },
     "execution_count": 17,
     "metadata": {},
     "output_type": "execute_result"
    }
   ],
   "source": [
    "data['Y_score'][positive_index]"
   ]
  },
  {
   "cell_type": "code",
   "execution_count": 18,
   "metadata": {},
   "outputs": [
    {
     "data": {
      "text/plain": [
       "0.465116274094105"
      ]
     },
     "execution_count": 18,
     "metadata": {},
     "output_type": "execute_result"
    }
   ],
   "source": [
    "data['rouge']['f']"
   ]
  },
  {
   "cell_type": "code",
   "execution_count": null,
   "metadata": {},
   "outputs": [],
   "source": []
  }
 ],
 "metadata": {
  "kernelspec": {
   "display_name": "Python 3",
   "language": "python",
   "name": "python3"
  },
  "language_info": {
   "codemirror_mode": {
    "name": "ipython",
    "version": 3
   },
   "file_extension": ".py",
   "mimetype": "text/x-python",
   "name": "python",
   "nbconvert_exporter": "python",
   "pygments_lexer": "ipython3",
   "version": "3.6.1"
  }
 },
 "nbformat": 4,
 "nbformat_minor": 2
}

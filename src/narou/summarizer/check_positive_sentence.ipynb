{
 "cells": [
  {
   "cell_type": "code",
   "execution_count": 1,
   "metadata": {},
   "outputs": [
    {
     "name": "stderr",
     "output_type": "stream",
     "text": [
      "Using TensorFlow backend.\n"
     ]
    }
   ],
   "source": [
    "from keras_regression_extractive_summarizer import KerasRegressionExtractiveSummarizer"
   ]
  },
  {
   "cell_type": "code",
   "execution_count": 2,
   "metadata": {},
   "outputs": [],
   "source": [
    "import numpy as np"
   ]
  },
  {
   "cell_type": "code",
   "execution_count": 4,
   "metadata": {},
   "outputs": [],
   "source": [
    "from src.util import settings"
   ]
  },
  {
   "cell_type": "code",
   "execution_count": 8,
   "metadata": {},
   "outputs": [],
   "source": [
    "import os"
   ]
  },
  {
   "cell_type": "code",
   "execution_count": 9,
   "metadata": {},
   "outputs": [],
   "source": [
    "import joblib"
   ]
  },
  {
   "cell_type": "code",
   "execution_count": 13,
   "metadata": {},
   "outputs": [
    {
     "name": "stdout",
     "output_type": "stream",
     "text": [
      "loading embedding_model...\n",
      "loading embedding_model...\n",
      "loading similarity threshold data...\n",
      "loading trained model: /Users/kiriyama.k.ab/Fujii.lab/story_modeling/model/narou/threshold_estimate_trained_model/180820/model_30_vloss0.0078.hdf5\n",
      "loading data dict...\n",
      "saving splited data ncode...\n",
      "converting dict to tensor...\n",
      "converting dict to tensor...\n",
      "num of novels which is training data: 746\n",
      "num of novels which is test data: 187\n",
      "loading trained model: /Users/kiriyama.k.ab/Fujii.lab/story_modeling/model/narou/reg_trained_model/180817/model_26_vloss0.0058.hdf5\n"
     ]
    }
   ],
   "source": [
    "summarizer = KerasRegressionExtractiveSummarizer()"
   ]
  },
  {
   "cell_type": "code",
   "execution_count": 11,
   "metadata": {},
   "outputs": [],
   "source": [
    "novel_data_path = os.path.join(settings.NAROU_MODEL_DIR_PATH, 'narou_corpus_novel_data', 'narou_corpus_novel_data.txt')"
   ]
  },
  {
   "cell_type": "code",
   "execution_count": 12,
   "metadata": {},
   "outputs": [],
   "source": [
    "with open(novel_data_path, 'rb') as f:\n",
    "    novel_data = joblib.load(f)"
   ]
  },
  {
   "cell_type": "code",
   "execution_count": 76,
   "metadata": {},
   "outputs": [],
   "source": [
    "ncode = list(summarizer.data_dict.keys())[5]"
   ]
  },
  {
   "cell_type": "code",
   "execution_count": 77,
   "metadata": {},
   "outputs": [],
   "source": [
    "data = summarizer.data_dict[ncode]"
   ]
  },
  {
   "cell_type": "code",
   "execution_count": 78,
   "metadata": {},
   "outputs": [],
   "source": [
    "contents_lines = summarizer.corpus.get_contents_lines(ncode)"
   ]
  },
  {
   "cell_type": "code",
   "execution_count": 79,
   "metadata": {},
   "outputs": [],
   "source": [
    "removed_contents_lines = np.array(summarizer.corpus.remove_error_line_indexes_from_contents_lines(contents_lines, data['error_line_indexes']))"
   ]
  },
  {
   "cell_type": "code",
   "execution_count": 80,
   "metadata": {},
   "outputs": [],
   "source": [
    "synopsis_lines = summarizer.corpus.get_synopsis_lines(ncode)"
   ]
  },
  {
   "cell_type": "code",
   "execution_count": 81,
   "metadata": {},
   "outputs": [],
   "source": [
    "positive_index = np.where(data['Y']==1)"
   ]
  },
  {
   "cell_type": "code",
   "execution_count": 82,
   "metadata": {},
   "outputs": [],
   "source": [
    "negative_index = np.where(data['Y']==0)"
   ]
  },
  {
   "cell_type": "code",
   "execution_count": 83,
   "metadata": {},
   "outputs": [
    {
     "data": {
      "text/plain": [
       "(array([  1,  10,  14,  15,  61, 102, 193, 416]),)"
      ]
     },
     "execution_count": 83,
     "metadata": {},
     "output_type": "execute_result"
    }
   ],
   "source": [
    "positive_index"
   ]
  },
  {
   "cell_type": "code",
   "execution_count": 84,
   "metadata": {},
   "outputs": [
    {
     "data": {
      "text/plain": [
       "'n1185df'"
      ]
     },
     "execution_count": 84,
     "metadata": {},
     "output_type": "execute_result"
    }
   ],
   "source": [
    "ncode"
   ]
  },
  {
   "cell_type": "code",
   "execution_count": 85,
   "metadata": {},
   "outputs": [
    {
     "data": {
      "text/plain": [
       "['知識狂であり天才である彼は死後の世界が気になってしまい自殺してしまう。',\n",
       " 'すると神と名乗る人物に人格を消されてしまって転生!?神界で起こる彼をめぐる騒動。',\n",
       " '彼の天才的な頭脳とその知識欲の秘密とは、どうして彼は転生させられたのか。',\n",
       " 'そんな中彼は人格が消されたお陰で毎日平穏でハーレムな日々をすごす。']"
      ]
     },
     "execution_count": 85,
     "metadata": {},
     "output_type": "execute_result"
    }
   ],
   "source": [
    "synopsis_lines"
   ]
  },
  {
   "cell_type": "code",
   "execution_count": 86,
   "metadata": {},
   "outputs": [
    {
     "data": {
      "text/plain": [
       "array(['彼は無機質のコンクリートの壁にもたれかけ冷たさを感じながら呟く。',\n",
       "       '好奇心だけでなく彼の頭脳も凄く日本は彼のお陰でギリギリ国別特許取得数一位を取れ、平和憲法を変えなくて済んでいることが出来ているほどだ。',\n",
       "       'すると彼は痙攣しながら倒れていく。', 'あっさり彼は死んだ。', 'それにしては感覚がおかしい気がするな。',\n",
       "       'なので転生させたあと徐々にこの脳の記憶能力を拡張していると。', 'お家取り潰しになってしまうかもしれないからだ。',\n",
       "       '盗賊は全員倒されてしまった。'], dtype='<U106')"
      ]
     },
     "execution_count": 86,
     "metadata": {},
     "output_type": "execute_result"
    }
   ],
   "source": [
    "removed_contents_lines[positive_index]"
   ]
  },
  {
   "cell_type": "code",
   "execution_count": 88,
   "metadata": {},
   "outputs": [
    {
     "data": {
      "text/plain": [
       "{'中世ヨーロッパ': 11,\n",
       " '日本': 10,\n",
       " '冒険者': 10,\n",
       " '経験値': 8,\n",
       " '東堂': 8,\n",
       " '可能性': 7,\n",
       " '五歳': 6,\n",
       " '異世界': 5,\n",
       " 'ヒナ': 5,\n",
       " '十倍': 4,\n",
       " 'サンドウィッチ': 4,\n",
       " 'ギル': 4,\n",
       " '好奇心': 3,\n",
       " 'Web': 3,\n",
       " '魔方陣': 3,\n",
       " '王都': 3,\n",
       " '4歳': 3,\n",
       " '死亡フラグ': 3,\n",
       " '肩甲骨': 2,\n",
       " '涙': 2,\n",
       " '右側に': 2,\n",
       " 'ヨーロッパ': 2,\n",
       " 'スクランブルエッグ': 2,\n",
       " '生活用品': 2,\n",
       " '娘': 2,\n",
       " '魔獣': 2,\n",
       " '鉄鉱石': 2,\n",
       " 'レアメタル': 2,\n",
       " '四回': 1,\n",
       " 'はんだごて': 1,\n",
       " '受刑者': 1,\n",
       " '平和憲法': 1,\n",
       " 'くない': 1,\n",
       " '誰だ': 1,\n",
       " '170cm': 1,\n",
       " 'B': 1,\n",
       " 'C': 1,\n",
       " 'ロシア人': 1,\n",
       " 'アジア人': 1,\n",
       " '翼': 1,\n",
       " 'あなたに': 1,\n",
       " '五日': 1,\n",
       " '魔術師': 1,\n",
       " '熱エネルギー': 1,\n",
       " 'はち': 1,\n",
       " 'ぁぁ': 1,\n",
       " '一時間': 1,\n",
       " '物理法則': 1,\n",
       " '・・・・・・・・・・・': 1,\n",
       " '左側に': 1,\n",
       " '発想の転換': 1,\n",
       " '異能': 1,\n",
       " 'ディ': 1,\n",
       " 'カタール': 1,\n",
       " 'ディカタール': 1,\n",
       " '貴族制': 1,\n",
       " '明治': 1,\n",
       " '江戸時代': 1,\n",
       " '愚の骨頂': 1,\n",
       " '十二日': 1,\n",
       " 'クリスタ': 1,\n",
       " '読み聞かせ': 1,\n",
       " '表意文字': 1,\n",
       " '表音文字': 1,\n",
       " '米': 1,\n",
       " '5歳': 1,\n",
       " '外国人': 1,\n",
       " '幼児教育': 1,\n",
       " '教育機関': 1,\n",
       " '教育制度': 1,\n",
       " '子供の遊び': 1,\n",
       " '五回': 1,\n",
       " 'チリ': 1,\n",
       " '自主退学': 1,\n",
       " 'オチ': 1,\n",
       " '絶対権力': 1,\n",
       " '不正行為': 1,\n",
       " '数年': 1,\n",
       " '超常現象': 1,\n",
       " '発見者': 1,\n",
       " '自由度': 1,\n",
       " 'なんの': 1,\n",
       " '誕生日': 1,\n",
       " 'ドン': 1,\n",
       " '賛美歌': 1,\n",
       " 'ギルガイア': 1,\n",
       " 'ノイン': 1,\n",
       " '8人': 1,\n",
       " '公爵家': 1,\n",
       " '寮生活': 1,\n",
       " '政治的': 1,\n",
       " '情けは人の為ならず': 1,\n",
       " '現代人': 1,\n",
       " '倫理観': 1,\n",
       " '目的地': 1,\n",
       " '三人': 1,\n",
       " '10分': 1,\n",
       " 'ロンドン': 1,\n",
       " '大剣': 1,\n",
       " 'じゃなくて': 1,\n",
       " '色違い': 1,\n",
       " '経済活動': 1,\n",
       " '街中': 1,\n",
       " 'なのだ': 1,\n",
       " 'ヒヤヒヤ': 1,\n",
       " '一緒に': 1,\n",
       " '雑貨屋': 1,\n",
       " '魔法陣': 1,\n",
       " '冒険者たち': 1,\n",
       " '二十倍': 1,\n",
       " 'なのか': 1,\n",
       " 'ペスト菌': 1,\n",
       " 'なんちゃって': 1,\n",
       " '鍛冶': 1,\n",
       " '含有量': 1,\n",
       " 'ファンタジー': 1,\n",
       " '一日': 1,\n",
       " '一度目': 1,\n",
       " '二度目': 1,\n",
       " 'ーーー': 1,\n",
       " 'MAX': 1,\n",
       " '盗賊団': 1,\n",
       " 'ランカー': 1,\n",
       " '四歳': 1,\n",
       " '辻馬車': 1,\n",
       " 'いいじゃない': 1,\n",
       " 'な！': 1,\n",
       " '東京': 1,\n",
       " '秋葉原': 1,\n",
       " 'この国': 1,\n",
       " 'テンプレ': 1,\n",
       " '清潔感': 1,\n",
       " '二セット': 1,\n",
       " 'ノイン・ギル': 1,\n",
       " '２階': 1,\n",
       " '危険物': 1,\n",
       " 'ラノベ': 1,\n",
       " '私の部屋': 1,\n",
       " '記憶の海': 1,\n",
       " '失踪事件': 1,\n",
       " '60年前': 1,\n",
       " '無限大': 1}"
      ]
     },
     "execution_count": 88,
     "metadata": {},
     "output_type": "execute_result"
    }
   ],
   "source": [
    "novel_data[ncode]['proper_noun_distribution']"
   ]
  },
  {
   "cell_type": "code",
   "execution_count": null,
   "metadata": {},
   "outputs": [],
   "source": []
  },
  {
   "cell_type": "code",
   "execution_count": null,
   "metadata": {},
   "outputs": [],
   "source": []
  }
 ],
 "metadata": {
  "kernelspec": {
   "display_name": "Python 3",
   "language": "python",
   "name": "python3"
  },
  "language_info": {
   "codemirror_mode": {
    "name": "ipython",
    "version": 3
   },
   "file_extension": ".py",
   "mimetype": "text/x-python",
   "name": "python",
   "nbconvert_exporter": "python",
   "pygments_lexer": "ipython3",
   "version": "3.6.1"
  }
 },
 "nbformat": 4,
 "nbformat_minor": 2
}

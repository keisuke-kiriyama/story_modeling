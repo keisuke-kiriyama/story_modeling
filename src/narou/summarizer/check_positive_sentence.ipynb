{
 "cells": [
  {
   "cell_type": "code",
   "execution_count": 1,
   "metadata": {},
   "outputs": [
    {
     "name": "stderr",
     "output_type": "stream",
     "text": [
      "Using TensorFlow backend.\n"
     ]
    }
   ],
   "source": [
    "from keras_regression_extractive_summarizer import KerasRegressionExtractiveSummarizer"
   ]
  },
  {
   "cell_type": "code",
   "execution_count": 2,
   "metadata": {},
   "outputs": [],
   "source": [
    "import numpy as np"
   ]
  },
  {
   "cell_type": "code",
   "execution_count": 3,
   "metadata": {},
   "outputs": [],
   "source": [
    "from src.util import settings"
   ]
  },
  {
   "cell_type": "code",
   "execution_count": 4,
   "metadata": {},
   "outputs": [],
   "source": [
    "import os"
   ]
  },
  {
   "cell_type": "code",
   "execution_count": 5,
   "metadata": {},
   "outputs": [],
   "source": [
    "import joblib"
   ]
  },
  {
   "cell_type": "code",
   "execution_count": 13,
   "metadata": {},
   "outputs": [
    {
     "name": "stdout",
     "output_type": "stream",
     "text": [
      "loading embedding_model...\n",
      "loading embedding_model...\n",
      "loading similarity threshold data...\n",
      "loading trained model: /Users/kiriyama.k.ab/Fujii.lab/story_modeling/model/narou/threshold_estimate_trained_model/180820/model_30_vloss0.0078.hdf5\n",
      "loading data dict...\n",
      "saving splited data ncode...\n",
      "converting dict to tensor...\n",
      "converting dict to tensor...\n",
      "num of novels which is training data: 746\n",
      "num of novels which is test data: 187\n",
      "loading trained model: /Users/kiriyama.k.ab/Fujii.lab/story_modeling/model/narou/reg_trained_model/180817/model_26_vloss0.0058.hdf5\n"
     ]
    }
   ],
   "source": [
    "summarizer = KerasRegressionExtractiveSummarizer()"
   ]
  },
  {
   "cell_type": "code",
   "execution_count": 6,
   "metadata": {},
   "outputs": [],
   "source": [
    "novel_data_path = os.path.join(settings.NAROU_MODEL_DIR_PATH, 'narou_corpus_novel_data', 'narou_corpus_novel_data.txt')"
   ]
  },
  {
   "cell_type": "code",
   "execution_count": 7,
   "metadata": {},
   "outputs": [],
   "source": [
    "with open(novel_data_path, 'rb') as f:\n",
    "    novel_data = joblib.load(f)"
   ]
  },
  {
   "cell_type": "code",
   "execution_count": 42,
   "metadata": {},
   "outputs": [],
   "source": [
    "ncode = list(summarizer.data_dict.keys())[6]\n",
    "# ncode = 'n1185df'"
   ]
  },
  {
   "cell_type": "code",
   "execution_count": 43,
   "metadata": {},
   "outputs": [],
   "source": [
    "data = summarizer.data_dict[ncode]"
   ]
  },
  {
   "cell_type": "code",
   "execution_count": 44,
   "metadata": {},
   "outputs": [],
   "source": [
    "contents_lines = summarizer.corpus.get_contents_lines(ncode)"
   ]
  },
  {
   "cell_type": "code",
   "execution_count": 45,
   "metadata": {},
   "outputs": [],
   "source": [
    "removed_contents_lines = np.array(summarizer.corpus.remove_error_line_indexes_from_contents_lines(contents_lines, data['error_line_indexes']))"
   ]
  },
  {
   "cell_type": "code",
   "execution_count": 46,
   "metadata": {},
   "outputs": [],
   "source": [
    "synopsis_lines = summarizer.corpus.get_synopsis_lines(ncode)"
   ]
  },
  {
   "cell_type": "code",
   "execution_count": 47,
   "metadata": {},
   "outputs": [],
   "source": [
    "positive_index = np.where(data['Y']==1)"
   ]
  },
  {
   "cell_type": "code",
   "execution_count": 48,
   "metadata": {},
   "outputs": [],
   "source": [
    "negative_index = np.where(data['Y']==0)"
   ]
  },
  {
   "cell_type": "code",
   "execution_count": 49,
   "metadata": {},
   "outputs": [
    {
     "data": {
      "text/plain": [
       "(array([ 0, 16]),)"
      ]
     },
     "execution_count": 49,
     "metadata": {},
     "output_type": "execute_result"
    }
   ],
   "source": [
    "positive_index"
   ]
  },
  {
   "cell_type": "code",
   "execution_count": 50,
   "metadata": {},
   "outputs": [
    {
     "data": {
      "text/plain": [
       "'n5513dg'"
      ]
     },
     "execution_count": 50,
     "metadata": {},
     "output_type": "execute_result"
    }
   ],
   "source": [
    "ncode"
   ]
  },
  {
   "cell_type": "code",
   "execution_count": 51,
   "metadata": {},
   "outputs": [
    {
     "data": {
      "text/plain": [
       "['こわれたロボットと伯爵令嬢のお話です。']"
      ]
     },
     "execution_count": 51,
     "metadata": {},
     "output_type": "execute_result"
    }
   ],
   "source": [
    "synopsis_lines"
   ]
  },
  {
   "cell_type": "code",
   "execution_count": 52,
   "metadata": {},
   "outputs": [
    {
     "data": {
      "text/plain": [
       "array(['僕は高性能のロボットだ。', '女の子のしてくれたお話の中に、舞踏会で出会った王子さまと結婚する伯爵令嬢のお話があったからね。'],\n",
       "      dtype='<U47')"
      ]
     },
     "execution_count": 52,
     "metadata": {},
     "output_type": "execute_result"
    }
   ],
   "source": [
    "removed_contents_lines[positive_index]"
   ]
  },
  {
   "cell_type": "code",
   "execution_count": 53,
   "metadata": {},
   "outputs": [
    {
     "data": {
      "text/plain": [
       "{'し': 12,\n",
       " '帰っ': 5,\n",
       " 'いる': 4,\n",
       " 'できる': 4,\n",
       " 'あっ': 3,\n",
       " 'て': 3,\n",
       " 'くれ': 3,\n",
       " 'ある': 3,\n",
       " '話し': 3,\n",
       " 'い': 3,\n",
       " '壊れ': 2,\n",
       " 'れ': 2,\n",
       " '断っ': 2,\n",
       " '眠る': 2,\n",
       " '言う': 2,\n",
       " 'なくなっ': 2,\n",
       " 'しまっ': 2,\n",
       " '飛ん': 2,\n",
       " 'くれる': 2,\n",
       " 'する': 2,\n",
       " '飛ぶ': 2,\n",
       " '焼き付け': 2,\n",
       " 'なっ': 2,\n",
       " '来': 2,\n",
       " 'なる': 2,\n",
       " '住ん': 1,\n",
       " '押し付け': 1,\n",
       " 'られ': 1,\n",
       " '捕まっ': 1,\n",
       " 'さ': 1,\n",
       " 'かくまっ': 1,\n",
       " 'ばれ': 1,\n",
       " '隠し': 1,\n",
       " '言わ': 1,\n",
       " '振っ': 1,\n",
       " '読む': 1,\n",
       " 'てる': 1,\n",
       " '読ん': 1,\n",
       " '入れる': 1,\n",
       " '増やそ': 1,\n",
       " '思っ': 1,\n",
       " '預かる': 1,\n",
       " '知っ': 1,\n",
       " '聞か': 1,\n",
       " 'せる': 1,\n",
       " 'しゃべる': 1,\n",
       " '泣き': 1,\n",
       " '続け': 1,\n",
       " '飛べる': 1,\n",
       " '会っ': 1,\n",
       " '開い': 1,\n",
       " '頼ん': 1,\n",
       " '出会っ': 1,\n",
       " '使っ': 1,\n",
       " '鳴っ': 1,\n",
       " 'くる': 1,\n",
       " '言っ': 1,\n",
       " 'き': 1,\n",
       " '着': 1,\n",
       " '見る': 1,\n",
       " 'たっ': 1,\n",
       " '持っ': 1,\n",
       " '訪ね': 1,\n",
       " 'こ': 1,\n",
       " '履い': 1,\n",
       " 'スっ': 1,\n",
       " 'いっ': 1,\n",
       " '聞い': 1,\n",
       " '笑っ': 1,\n",
       " '指さす': 1,\n",
       " 'もたれかかっ': 1,\n",
       " 'しかけ': 1,\n",
       " '連れ': 1,\n",
       " '貸し': 1,\n",
       " 'もらっ': 1,\n",
       " 'もらえ': 1,\n",
       " '作っ': 1,\n",
       " '使え': 1,\n",
       " '起こっ': 1,\n",
       " '放り': 1,\n",
       " 'しまう': 1}"
      ]
     },
     "execution_count": 53,
     "metadata": {},
     "output_type": "execute_result"
    }
   ],
   "source": [
    "novel_data[ncode]['verb_distribution']"
   ]
  },
  {
   "cell_type": "code",
   "execution_count": 54,
   "metadata": {},
   "outputs": [
    {
     "data": {
      "text/plain": [
       "dict_keys(['proper_noun_distribution', 'noun_distribution', 'person_distribution', 'place_distribution', 'verb_distribution'])"
      ]
     },
     "execution_count": 54,
     "metadata": {},
     "output_type": "execute_result"
    }
   ],
   "source": [
    "novel_data[ncode].keys()"
   ]
  },
  {
   "cell_type": "code",
   "execution_count": null,
   "metadata": {},
   "outputs": [],
   "source": []
  },
  {
   "cell_type": "code",
   "execution_count": null,
   "metadata": {},
   "outputs": [],
   "source": []
  }
 ],
 "metadata": {
  "kernelspec": {
   "display_name": "Python 3",
   "language": "python",
   "name": "python3"
  },
  "language_info": {
   "codemirror_mode": {
    "name": "ipython",
    "version": 3
   },
   "file_extension": ".py",
   "mimetype": "text/x-python",
   "name": "python",
   "nbconvert_exporter": "python",
   "pygments_lexer": "ipython3",
   "version": "3.6.1"
  }
 },
 "nbformat": 4,
 "nbformat_minor": 2
}

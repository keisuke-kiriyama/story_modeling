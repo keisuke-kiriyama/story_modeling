{
 "cells": [
  {
   "cell_type": "code",
   "execution_count": 1,
   "metadata": {},
   "outputs": [
    {
     "name": "stderr",
     "output_type": "stream",
     "text": [
      "Using TensorFlow backend.\n"
     ]
    }
   ],
   "source": [
    "from keras_regression_extractive_summarizer import KerasRegressionExtractiveSummarizer"
   ]
  },
  {
   "cell_type": "code",
   "execution_count": 2,
   "metadata": {},
   "outputs": [
    {
     "name": "stdout",
     "output_type": "stream",
     "text": [
      "loading embedding_model...\n",
      "loading embedding_model...\n",
      "loading similarity threshold data...\n",
      "loading trained model: /Users/kiriyama.k.ab/Fujii.lab/story_modeling/model/narou/threshold_estimate_trained_model/180820/model_30_vloss0.0078.hdf5\n",
      "loading data dict...\n",
      "loading splited data ncode...\n",
      "converting dict to tensor...\n",
      "converting dict to tensor...\n",
      "num of novels which is training data: 746\n",
      "num of novels which is test data: 187\n",
      "loading trained model: /Users/kiriyama.k.ab/Fujii.lab/story_modeling/model/narou/reg_trained_model/180817/model_26_vloss0.0058.hdf5\n"
     ]
    }
   ],
   "source": [
    "summarizer = KerasRegressionExtractiveSummarizer()"
   ]
  },
  {
   "cell_type": "code",
   "execution_count": 3,
   "metadata": {},
   "outputs": [],
   "source": [
    "lead_f = []"
   ]
  },
  {
   "cell_type": "code",
   "execution_count": 4,
   "metadata": {},
   "outputs": [],
   "source": [
    "lead_p = []"
   ]
  },
  {
   "cell_type": "code",
   "execution_count": 5,
   "metadata": {},
   "outputs": [],
   "source": [
    "lead_r = []"
   ]
  },
  {
   "cell_type": "code",
   "execution_count": 6,
   "metadata": {},
   "outputs": [],
   "source": [
    "five_f = []"
   ]
  },
  {
   "cell_type": "code",
   "execution_count": 7,
   "metadata": {},
   "outputs": [],
   "source": [
    "five_p = []"
   ]
  },
  {
   "cell_type": "code",
   "execution_count": 8,
   "metadata": {},
   "outputs": [],
   "source": [
    "five_r = []"
   ]
  },
  {
   "cell_type": "code",
   "execution_count": 9,
   "metadata": {},
   "outputs": [],
   "source": [
    "from rouge import Rouge"
   ]
  },
  {
   "cell_type": "code",
   "execution_count": 10,
   "metadata": {},
   "outputs": [],
   "source": [
    "rouge = Rouge()"
   ]
  },
  {
   "cell_type": "code",
   "execution_count": 11,
   "metadata": {},
   "outputs": [],
   "source": [
    "import numpy as np"
   ]
  },
  {
   "cell_type": "code",
   "execution_count": 12,
   "metadata": {},
   "outputs": [],
   "source": [
    "for ncode in summarizer.test_data_ncodes:\n",
    "    ref = summarizer.generate_ref_synopsis(ncode)\n",
    "    lead = summarizer.generate_lead_synopsis(ncode)\n",
    "    counts = summarizer.generate_counts_synopsis(ncode)\n",
    "    lead_score = rouge.get_scores(lead, ref, False)\n",
    "    lead_f.append(lead_score[0]['rouge-1']['f'])\n",
    "    lead_p.append(lead_score[0]['rouge-1']['p'])\n",
    "    lead_r.append(lead_score[0]['rouge-1']['r'])\n",
    "    five_score = rouge.get_scores(counts[4], ref, False)\n",
    "    five_f.append(five_score[0]['rouge-1']['f'])\n",
    "    five_p.append(five_score[0]['rouge-1']['p'])\n",
    "    five_r.append(five_score[0]['rouge-1']['r'])"
   ]
  },
  {
   "cell_type": "code",
   "execution_count": 13,
   "metadata": {},
   "outputs": [],
   "source": [
    "lead_f_mean = np.mean(lead_f) \n",
    "lead_p_mean = np.mean(lead_p) \n",
    "lead_r_mean = np.mean(lead_r) \n",
    "five_f_mean = np.mean(five_f) \n",
    "five_p_mean = np.mean(five_p) \n",
    "five_r_mean = np.mean(five_r)"
   ]
  },
  {
   "cell_type": "code",
   "execution_count": 14,
   "metadata": {},
   "outputs": [
    {
     "data": {
      "text/plain": [
       "0.28336790055167693"
      ]
     },
     "execution_count": 14,
     "metadata": {},
     "output_type": "execute_result"
    }
   ],
   "source": [
    "lead_f_mean"
   ]
  },
  {
   "cell_type": "code",
   "execution_count": 15,
   "metadata": {},
   "outputs": [
    {
     "data": {
      "text/plain": [
       "0.2827927818223943"
      ]
     },
     "execution_count": 15,
     "metadata": {},
     "output_type": "execute_result"
    }
   ],
   "source": [
    "five_f_mean"
   ]
  },
  {
   "cell_type": "code",
   "execution_count": 16,
   "metadata": {},
   "outputs": [
    {
     "data": {
      "text/plain": [
       "0.3004831255372852"
      ]
     },
     "execution_count": 16,
     "metadata": {},
     "output_type": "execute_result"
    }
   ],
   "source": [
    "lead_p_mean"
   ]
  },
  {
   "cell_type": "code",
   "execution_count": 17,
   "metadata": {},
   "outputs": [
    {
     "data": {
      "text/plain": [
       "0.3074797496309013"
      ]
     },
     "execution_count": 17,
     "metadata": {},
     "output_type": "execute_result"
    }
   ],
   "source": [
    "five_p_mean"
   ]
  },
  {
   "cell_type": "code",
   "execution_count": 18,
   "metadata": {},
   "outputs": [
    {
     "data": {
      "text/plain": [
       "0.2909222238314688"
      ]
     },
     "execution_count": 18,
     "metadata": {},
     "output_type": "execute_result"
    }
   ],
   "source": [
    "lead_r_mean"
   ]
  },
  {
   "cell_type": "code",
   "execution_count": 19,
   "metadata": {},
   "outputs": [
    {
     "data": {
      "text/plain": [
       "0.32973661288655337"
      ]
     },
     "execution_count": 19,
     "metadata": {},
     "output_type": "execute_result"
    }
   ],
   "source": [
    "five_r_mean"
   ]
  },
  {
   "cell_type": "code",
   "execution_count": null,
   "metadata": {},
   "outputs": [],
   "source": []
  }
 ],
 "metadata": {
  "kernelspec": {
   "display_name": "Python 3",
   "language": "python",
   "name": "python3"
  },
  "language_info": {
   "codemirror_mode": {
    "name": "ipython",
    "version": 3
   },
   "file_extension": ".py",
   "mimetype": "text/x-python",
   "name": "python",
   "nbconvert_exporter": "python",
   "pygments_lexer": "ipython3",
   "version": "3.6.1"
  }
 },
 "nbformat": 4,
 "nbformat_minor": 2
}

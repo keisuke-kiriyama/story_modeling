{
 "cells": [
  {
   "cell_type": "code",
   "execution_count": 1,
   "metadata": {},
   "outputs": [
    {
     "name": "stderr",
     "output_type": "stream",
     "text": [
      "Using TensorFlow backend.\n"
     ]
    }
   ],
   "source": [
    "from keras_regression_extractive_summarizer import KerasRegressionExtractiveSummarizer"
   ]
  },
  {
   "cell_type": "code",
   "execution_count": 2,
   "metadata": {},
   "outputs": [],
   "source": [
    "import numpy as np"
   ]
  },
  {
   "cell_type": "code",
   "execution_count": 9,
   "metadata": {},
   "outputs": [],
   "source": [
    "from sklearn.metrics import precision_recall_curve, auc"
   ]
  },
  {
   "cell_type": "code",
   "execution_count": 5,
   "metadata": {},
   "outputs": [],
   "source": [
    "from itertools import chain"
   ]
  },
  {
   "cell_type": "code",
   "execution_count": 6,
   "metadata": {},
   "outputs": [
    {
     "name": "stdout",
     "output_type": "stream",
     "text": [
      "loading embedding_model...\n",
      "loading embedding_model...\n",
      "loading similarity threshold data...\n",
      "loading trained model: /Users/kiriyama.k.ab/Fujii.lab/story_modeling/model/narou/threshold_estimate_trained_model/180820/model_30_vloss0.0078.hdf5\n",
      "loading data dict...\n",
      "saving splited data ncode...\n",
      "converting dict to tensor...\n",
      "converting dict to tensor...\n",
      "num of novels which is training data: 746\n",
      "num of novels which is test data: 187\n",
      "loading trained model: /Users/kiriyama.k.ab/Fujii.lab/story_modeling/model/narou/reg_trained_model/180817/model_26_vloss0.0058.hdf5\n"
     ]
    }
   ],
   "source": [
    "summarizer = KerasRegressionExtractiveSummarizer()"
   ]
  },
  {
   "cell_type": "code",
   "execution_count": 7,
   "metadata": {},
   "outputs": [],
   "source": [
    "pro_aucs = []\n",
    "lead_aucs = []"
   ]
  },
  {
   "cell_type": "code",
   "execution_count": 10,
   "metadata": {},
   "outputs": [],
   "source": [
    "for ncode in summarizer.test_data_ncodes:\n",
    "    # 提案モデルのAUC\n",
    "    data = summarizer.data_dict[ncode]\n",
    "    y_true = data['Y']\n",
    "    pro_y_scores = np.array(list(chain.from_iterable(summarizer.trained_model.predict(data['X']))))\n",
    "    pro_precision, pro_recall, _ = precision_recall_curve(y_true, pro_y_scores)\n",
    "    pro_auc = auc(pro_recall, pro_precision)\n",
    "    pro_aucs.append(pro_auc)\n",
    "\n",
    "    # 先頭から順に文を採用した場合のAUC\n",
    "    lead_y_scores = np.arange(len(data['Y']))\n",
    "    lead_precision, lead_recall, _ = precision_recall_curve(y_true, lead_y_scores)\n",
    "    lead_auc = auc(lead_recall, lead_precision)\n",
    "    lead_aucs.append(lead_auc)"
   ]
  },
  {
   "cell_type": "code",
   "execution_count": null,
   "metadata": {},
   "outputs": [],
   "source": []
  }
 ],
 "metadata": {
  "kernelspec": {
   "display_name": "Python 3",
   "language": "python",
   "name": "python3"
  },
  "language_info": {
   "codemirror_mode": {
    "name": "ipython",
    "version": 3
   },
   "file_extension": ".py",
   "mimetype": "text/x-python",
   "name": "python",
   "nbconvert_exporter": "python",
   "pygments_lexer": "ipython3",
   "version": "3.6.1"
  }
 },
 "nbformat": 4,
 "nbformat_minor": 2
}

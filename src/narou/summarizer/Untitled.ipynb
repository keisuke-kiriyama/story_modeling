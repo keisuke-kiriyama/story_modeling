{
 "cells": [
  {
   "cell_type": "code",
   "execution_count": 1,
   "metadata": {},
   "outputs": [],
   "source": [
    "path = '/Users/kiriyama.k.ab/Fujii.lab/story_modeling/data/narou/meta/n0002ei_meta.json'"
   ]
  },
  {
   "cell_type": "code",
   "execution_count": 2,
   "metadata": {},
   "outputs": [],
   "source": [
    "import os"
   ]
  },
  {
   "cell_type": "code",
   "execution_count": 3,
   "metadata": {},
   "outputs": [],
   "source": [
    "import json"
   ]
  },
  {
   "cell_type": "code",
   "execution_count": 4,
   "metadata": {},
   "outputs": [],
   "source": [
    "with open(path, 'r') as f:\n",
    "    data = json.load(f)"
   ]
  },
  {
   "cell_type": "code",
   "execution_count": null,
   "metadata": {},
   "outputs": [
    {
     "data": {
      "text/plain": [
       "{'title': '我等ヴィオラ騎士団（ＳＦ風味）',\n 'ncode': 'N0002EI',\n 'userid': 170947,\n 'writer': 'paiちゃん',\n 'story': ['恒星間を渡る手段は科学の発展によりイオンエンジン、重力場推進機関、さらには物理法則を書き換えて上位次元に入りこみ異なる空間に現れる亜空間跳躍航法までを人類は手にするまでになった。',\n  'あるプロジェクトが終了したことで、１人のパイロットが愛機とともに他の恒星系へと旅に出る。',\n  '安易な旅と思っていた矢先、亜空間跳躍航法で恒星間を渡っていた機体が、重力振動の余波を受けて真っ二つに裂けてしまった。',\n  '裂けた機体はパイロットの半身もろとも別の空間に具現化したが、高度の技術力で作られた機体は半分になっても、その機能を維持し再び再生することができる。',\n  'それぞれが具現化した世界は、同じような世界だが平行世界ということなのだろう、同じような種族、同じような名前の人物が存在している。',\n  'だが、大きく異なるのは、片方が高度な科学技術を持った世界であるのに対して、もう片方は魔道科学の発達した世界だったのだ。',\n  'やがて意識を取り戻したパイロットは、以前の記憶をおぼろげに思い出せるだけだった。',\n  'そんな彼らを保護したのは、騎士団と呼ばれる採掘業者だった。',\n  '彼らが騎士団を名乗るのは、プレートアーマーに似た戦機と呼ばれる機体を彼らが使っているからに過ぎない。',\n  '彼らに戦機が必要なのは、荒野での採掘リスクのためだ。',\n  '２つの世界の片方には恐竜によく似た巨獣と呼ばれる生物が、もう片方には魔獣と呼ばれる大型生物が闊歩してる。',\n  '彼らとともに、騎士団暮らしが始まる。',\n  '一方では巨獣の襲撃におびえながらマンガン団塊を採掘し、もう一方では魔獣を倒して魔石を得る。',\n  '暮らしは短調ではあっても、それなりの喜怒哀楽を得ることができる。',\n  'そんな暮らしの中で突然に訪れる海賊団との闘い、大きな異変、さらには彼らを縛ろうとする存在との対立に巻きこまれてしまう。'],\n 'biggenre': 4,\n 'genre': 403,\n 'keyword': 'R15 残酷な描写あり 異世界転移 未来 ロボット ハーレム 獣人 陸上艦',\n 'noveltype': 1,\n 'end': 1,\n 'general_all_no': 108,\n 'length': 494324,\n 'global_point': 2366,\n 'fav_novel_cnt': 792,\n 'review_cnt': 0,\n 'all_point': 782,\n 'all_hyoka_cnt': 87,\n 'kaiwaritu': 37}"
      ]
     },
     "execution_count": 5,
     "metadata": {},
     "output_type": "execute_result"
    }
   ],
   "source": [
    "data"
   ]
  },
  {
   "cell_type": "code",
   "execution_count": null,
   "metadata": {},
   "outputs": [],
   "source": []
  }
 ],
 "metadata": {
  "kernelspec": {
   "display_name": "Python 3",
   "language": "python",
   "name": "python3"
  },
  "language_info": {
   "codemirror_mode": {
    "name": "ipython",
    "version": 3
   },
   "file_extension": ".py",
   "mimetype": "text/x-python",
   "name": "python",
   "nbconvert_exporter": "python",
   "pygments_lexer": "ipython3",
   "version": "3.6.1"
  }
 },
 "nbformat": 4,
 "nbformat_minor": 2
}
